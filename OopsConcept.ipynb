{
 "cells": [
  {
   "cell_type": "markdown",
   "metadata": {
    "id": "l0H8s_2lOak5"
   },
   "source": [
    "## **Object-oriented Programming (OOPs)**\n",
    " Object-oriented Programming (OOPs) is a programming paradigm that uses objects and classes in programming. \n",
    " It aims to implement real-world entities like inheritance, polymorphisms, encapsulation, etc. in the programming."
   ]
  },
  {
   "cell_type": "markdown",
   "metadata": {
    "id": "POA7RBH6HwWg"
   },
   "source": [
    "**Class**\n",
    ">Class is a blueprint for an object"
   ]
  },
  {
   "cell_type": "markdown",
   "metadata": {
    "id": "THwmMY09JM3Y"
   },
   "source": [
    "How to create class in python?\n",
    "\n",
    "Syntax:\n",
    "\n",
    "class NameOfClass:\n",
    "\n",
    "     <statement-1>\n",
    "     .\n",
    "     .\n",
    "      <statement-2>"
   ]
  },
  {
   "cell_type": "code",
   "execution_count": 2,
   "metadata": {
    "id": "KahaSrM-HnEh"
   },
   "outputs": [],
   "source": [
    "class ClassName:\n",
    "  variable=\"i am a class attribute\"\n",
    "  def function(self):\n",
    "    print(\"i am from inside a class\")"
   ]
  },
  {
   "cell_type": "code",
   "execution_count": 3,
   "metadata": {
    "id": "AZJaIk81Idx6"
   },
   "outputs": [
    {
     "data": {
      "text/plain": [
       "<function __main__.ClassName.function(self)>"
      ]
     },
     "execution_count": 3,
     "metadata": {},
     "output_type": "execute_result"
    }
   ],
   "source": [
    "ClassName.function"
   ]
  },
  {
   "cell_type": "markdown",
   "metadata": {
    "id": "REZcjM6FLyuB"
   },
   "source": [
    "**object**"
   ]
  },
  {
   "cell_type": "markdown",
   "metadata": {
    "id": "VHzWmv6YMKPp"
   },
   "source": [
    "An Object is an instance of a Class. A class is like a blueprint while an instance is a copy of the class with actual values."
   ]
  },
  {
   "cell_type": "markdown",
   "metadata": {
    "id": "mIvKPvMuJpWv"
   },
   "source": [
    "How to create object in python?"
   ]
  },
  {
   "cell_type": "code",
   "execution_count": 4,
   "metadata": {
    "id": "FETlWRT7Id7o"
   },
   "outputs": [
    {
     "data": {
      "text/plain": [
       "<__main__.ClassName at 0x1bde510ef70>"
      ]
     },
     "execution_count": 4,
     "metadata": {},
     "output_type": "execute_result"
    }
   ],
   "source": [
    "obj1=ClassName()\n",
    "obj1"
   ]
  },
  {
   "cell_type": "markdown",
   "metadata": {
    "id": "qAoeFctpL4cA"
   },
   "source": [
    "How to access class members?"
   ]
  },
  {
   "cell_type": "code",
   "execution_count": 5,
   "metadata": {
    "id": "_nHUbATfKaJr"
   },
   "outputs": [
    {
     "name": "stdout",
     "output_type": "stream",
     "text": [
      "i am a class attribute\n",
      "i was just created\n",
      "i am a class attribute\n",
      "i am from inside a class\n"
     ]
    }
   ],
   "source": [
    "obj1=ClassName()\n",
    "obj2=ClassName()\n",
    "#creating new instance attribute for obj2\n",
    "obj2.variable=\"i was just created\"\n",
    "print(obj1.variable)\n",
    "print(obj2.variable)\n",
    "print(ClassName.variable)\n",
    "obj1.function()"
   ]
  },
  {
   "cell_type": "markdown",
   "metadata": {
    "id": "iMXbMqdgPKwJ"
   },
   "source": [
    "__init__ method in python"
   ]
  },
  {
   "cell_type": "code",
   "execution_count": 6,
   "metadata": {
    "id": "tkHjr7PRIeA5"
   },
   "outputs": [],
   "source": [
    "class Student(object):\n",
    "  def __init__(self,name,branch,year):\n",
    "    self.name=name\n",
    "    self.branch=branch\n",
    "    self.year=year\n",
    "    print(\"A student object is created\")\n",
    "\n",
    "  def print_details(self):\n",
    "    print(\"Name:\" ,self.name)\n",
    "    print(\"Branch:\" ,self.branch)\n",
    "    print(\"Year:\" ,self.year)"
   ]
  },
  {
   "cell_type": "code",
   "execution_count": 7,
   "metadata": {
    "id": "kpLIPRGwIeFg"
   },
   "outputs": [
    {
     "name": "stdout",
     "output_type": "stream",
     "text": [
      "A student object is created\n",
      "Name: Yogesh\n",
      "Branch: Mech\n",
      "Year: 2022\n"
     ]
    }
   ],
   "source": [
    "obj1=Student(\"Yogesh\",\"Mech\",2022)\n",
    "obj1.print_details()"
   ]
  },
  {
   "cell_type": "markdown",
   "metadata": {
    "id": "qfMeQm4QUeaA"
   },
   "source": [
    "**DemoTest**"
   ]
  },
  {
   "cell_type": "code",
   "execution_count": 8,
   "metadata": {
    "id": "q8EBLWe8IeIB"
   },
   "outputs": [],
   "source": [
    "class Dog:\n",
    "  def __init__(self,name):\n",
    "    self.name=name\n",
    "    print(\"Object with name:{} created \".format(name))\n",
    "  def talk(self):\n",
    "    print(\"Woof!\")\n",
    "  def printName(self):\n",
    "    print(\"My name is : {} \".format(self.name))\n",
    "  def __str__(self):\n",
    "    return self.name"
   ]
  },
  {
   "cell_type": "code",
   "execution_count": 9,
   "metadata": {
    "id": "kcTgF-BeIeKo"
   },
   "outputs": [
    {
     "name": "stdout",
     "output_type": "stream",
     "text": [
      "Object with name:tomy created \n",
      "Object with name:Bruno created \n",
      "Woof!\n",
      "My name is : tomy \n",
      "Woof!\n",
      "My name is : Bruno \n",
      "tomy\n",
      "Bruno\n"
     ]
    }
   ],
   "source": [
    "tomy=Dog(\"tomy\")\n",
    "bruno=Dog(\"Bruno\")\n",
    "tomy.talk()\n",
    "tomy.printName()\n",
    "bruno.talk()\n",
    "bruno.printName()\n",
    "\n",
    "print(tomy)\n",
    "print(bruno)"
   ]
  },
  {
   "cell_type": "markdown",
   "metadata": {
    "id": "wFTF7tp4YsS5"
   },
   "source": [
    "**Q. Create two new vehicles called car1 and car2, set car1 to be a red converible worth 70000.00 with a name of ferrari and car2 to be a blue van names JEEP worth 15000.00**"
   ]
  },
  {
   "cell_type": "code",
   "execution_count": 10,
   "metadata": {
    "id": "fVAvlPo0IeQ4"
   },
   "outputs": [],
   "source": [
    "class Vehicle:\n",
    "  def __init__(self,name,color,worth):\n",
    "    self.name=name\n",
    "    self.color=color\n",
    "    self.worth=worth\n",
    "    #print(\"Cars deatils \")\n",
    "    \n",
    "  def details(self):\n",
    "    print(\"Name:\",self.name)\n",
    "    print(\"Color:\",self.color)\n",
    "    print(\"Worth:\", self.worth)\n",
    "\n",
    "     "
   ]
  },
  {
   "cell_type": "code",
   "execution_count": 11,
   "metadata": {
    "id": "6pZ06FNmZb7T"
   },
   "outputs": [
    {
     "name": "stdout",
     "output_type": "stream",
     "text": [
      "CAR 1 \n",
      "Name: Ferrari\n",
      "Color: Red\n",
      "Worth: 7000000\n",
      "CAR 2 \n",
      "Name: JEEP\n",
      "Color: Blue\n",
      "Worth: 1500000\n"
     ]
    }
   ],
   "source": [
    "\n",
    "print(\"CAR 1 \")\n",
    "car1=Vehicle(\"Ferrari\",\"Red\",7000000)\n",
    "car1.details()\n",
    "print(\"CAR 2 \")\n",
    "car2=Vehicle(\"JEEP\",\"Blue\",1500000)\n",
    "car2.details()"
   ]
  },
  {
   "cell_type": "markdown",
   "metadata": {
    "id": "5QUEzmGLamLq"
   },
   "source": [
    "magic method"
   ]
  },
  {
   "cell_type": "code",
   "execution_count": 12,
   "metadata": {
    "id": "sxgXdoMJZb-b"
   },
   "outputs": [
    {
     "name": "stdout",
     "output_type": "stream",
     "text": [
      " i am a fruit\n",
      " i am a cirtus\n"
     ]
    }
   ],
   "source": [
    "class Fruit:\n",
    "  def __init__(self):\n",
    "    print(\" i am a fruit\")\n",
    "class Cirtrus(Fruit):\n",
    "  def __init__(self):\n",
    "    super().__init__()\n",
    "    print(\" i am a cirtus\")\n",
    "lemon=Cirtrus()"
   ]
  },
  {
   "cell_type": "code",
   "execution_count": 13,
   "metadata": {
    "id": "BZ7rS1yTfIUF"
   },
   "outputs": [
    {
     "name": "stdout",
     "output_type": "stream",
     "text": [
      "10\n"
     ]
    }
   ],
   "source": [
    "class Fruit:\n",
    "  def __len__(self):\n",
    "    return 10\n",
    "print(len(Fruit()))"
   ]
  },
  {
   "cell_type": "code",
   "execution_count": 14,
   "metadata": {
    "id": "EqpNpn7nfIWu"
   },
   "outputs": [
    {
     "name": "stdout",
     "output_type": "stream",
     "text": [
      "i am a fruit\n"
     ]
    }
   ],
   "source": [
    "class Fruit:\n",
    "  def __str__(self):\n",
    "    return \"i am a fruit\"\n",
    "print(Fruit())"
   ]
  },
  {
   "cell_type": "markdown",
   "metadata": {
    "id": "OhTR9a4Ogi-L"
   },
   "source": [
    "**INHERITANCE**"
   ]
  },
  {
   "cell_type": "markdown",
   "metadata": {
    "id": "aLZWjdscI-36"
   },
   "source": [
    "inheritance  is the capability of one class to inherits the properties from another class"
   ]
  },
  {
   "cell_type": "markdown",
   "metadata": {
    "id": "Y64rQlrpJyfi"
   },
   "source": [
    "Single inheritance"
   ]
  },
  {
   "cell_type": "code",
   "execution_count": 15,
   "metadata": {
    "id": "MrIbuoFxfIZX"
   },
   "outputs": [],
   "source": [
    "class Person:\n",
    "  def __init__(self,name):\n",
    "    self.name=name\n",
    "  def sayname(self):\n",
    "    print(self.name)\n",
    "\n",
    "class Engineer(Person):\n",
    "  def __init__(self, name):\n",
    "    super().__init__(name)\n",
    "    self.profession=\"Engineer\"\n",
    "  \n",
    "  def sayprofession(self):\n",
    "    print(self.profession)\n",
    "  "
   ]
  },
  {
   "cell_type": "code",
   "execution_count": 16,
   "metadata": {
    "id": "mwINr3QUfIcT"
   },
   "outputs": [
    {
     "name": "stdout",
     "output_type": "stream",
     "text": [
      "Engineer\n",
      "Yogesh\n"
     ]
    }
   ],
   "source": [
    "engineer=Engineer(\"Yogesh\")\n",
    "engineer.sayprofession()\n",
    "engineer.sayname()\n",
    "#print(engineer.sayname())\n",
    "#print(engineer.sayprofession())"
   ]
  },
  {
   "cell_type": "markdown",
   "metadata": {
    "id": "ornK0437MQ3K"
   },
   "source": [
    "**Multiple inheritance**"
   ]
  },
  {
   "cell_type": "code",
   "execution_count": 17,
   "metadata": {
    "id": "PLowG_x9ZcBR"
   },
   "outputs": [],
   "source": [
    "class Person:\n",
    "  def __init__(self,name):\n",
    "    self.name=name\n",
    "  def sayname(self):\n",
    "    print(\"My name is:{}\".format(self.name))\n",
    "    #print(self.name)\n",
    "\n",
    "class Engineer(Person):\n",
    "  def __init__(self, name):\n",
    "    super().__init__(name)\n",
    "    self.profession=\"Engineer\"\n",
    "  \n",
    "  def sayprofession(self):\n",
    "    print(self.profession)\n",
    "\n",
    "class Doctor(Person):\n",
    "  def __init__(self, name):\n",
    "    super().__init__(name)\n",
    "    self.profession=\"Doctor\"\n",
    "  \n",
    "  def sayprofession(self):\n",
    "    print(self.profession)"
   ]
  },
  {
   "cell_type": "code",
   "execution_count": 18,
   "metadata": {
    "id": "rNGuGTKWMQRl"
   },
   "outputs": [
    {
     "name": "stdout",
     "output_type": "stream",
     "text": [
      "My name is:Yogesh\n",
      "Engineer\n",
      "My name is:Shubham\n",
      "Doctor\n"
     ]
    }
   ],
   "source": [
    "engineer=Engineer(\"Yogesh\")\n",
    "doctor=Doctor(\"Shubham\")\n",
    "engineer.sayname()\n",
    "engineer.sayprofession()\n",
    "doctor.sayname()\n",
    "doctor.sayprofession()\n"
   ]
  },
  {
   "cell_type": "markdown",
   "metadata": {
    "id": "1Cm5u3FXPYoT"
   },
   "source": [
    "**Multilevel inheritance**"
   ]
  },
  {
   "cell_type": "code",
   "execution_count": 19,
   "metadata": {
    "id": "3onSoD96MQUD"
   },
   "outputs": [],
   "source": [
    "class A:\n",
    "  def printA(self):\n",
    "    print(\"from A\")\n",
    "class B(A):\n",
    "  def printB(self):\n",
    "    print(\"from B\")\n",
    "class C(B):\n",
    "  def printC(self):\n",
    "    print(\"from C\")"
   ]
  },
  {
   "cell_type": "code",
   "execution_count": 20,
   "metadata": {
    "id": "y920PzOrMQXU"
   },
   "outputs": [
    {
     "name": "stdout",
     "output_type": "stream",
     "text": [
      "from A\n",
      "from B\n",
      "from C\n"
     ]
    }
   ],
   "source": [
    "obj=C()\n",
    "obj.printA()\n",
    "obj.printB()\n",
    "obj.printC()"
   ]
  },
  {
   "cell_type": "code",
   "execution_count": 21,
   "metadata": {
    "id": "96v5B59jRsBF"
   },
   "outputs": [],
   "source": [
    "class Grandfather:\n",
    "    def __init__(self, grandfathername):\n",
    "        self.grandfathername = grandfathername\n",
    " \n",
    "class Father(Grandfather):\n",
    "    def __init__(self, fathername, grandfathername):\n",
    "        self.fathername = fathername\n",
    "        Grandfather.__init__(self, grandfathername)# invoking constructor of Grandfather class\n",
    "\n",
    "class Son(Father):\n",
    "    def __init__(self, sonname, fathername, grandfathername):\n",
    "        self.sonname = sonname\n",
    "        Father.__init__(self, fathername, grandfathername)# invoking constructor of Father class\n",
    " \n",
    "    def print_name(self):\n",
    "        print('Grandfather name :', self.grandfathername)\n",
    "        print(\"Father name :\", self.fathername)\n",
    "        print(\"Son name :\", self.sonname)\n"
   ]
  },
  {
   "cell_type": "code",
   "execution_count": 22,
   "metadata": {
    "id": "S6eNkwNnSESf"
   },
   "outputs": [
    {
     "name": "stdout",
     "output_type": "stream",
     "text": [
      "Vivek\n",
      "Grandfather name : Vivek\n",
      "Father name : Yogesh\n",
      "Son name : Yash\n"
     ]
    }
   ],
   "source": [
    "s1 = Son('Yash', 'Yogesh', 'Vivek')\n",
    "print(s1.grandfathername)\n",
    "s1.print_name()"
   ]
  },
  {
   "cell_type": "markdown",
   "metadata": {
    "id": "nMW2kbxzRk3D"
   },
   "source": [
    "**Hierarchical Inheritance:**"
   ]
  },
  {
   "cell_type": "code",
   "execution_count": 23,
   "metadata": {
    "id": "KWnqiDqBMQbA"
   },
   "outputs": [],
   "source": [
    "class Parent:\n",
    "    def func1(self):\n",
    "        print(\"This function is in parent class.\")\n",
    " \n",
    "class Child1(Parent):\n",
    "    def func2(self):\n",
    "        print(\"This function is in child 1.\")\n",
    "\n",
    "class Child2(Parent):\n",
    "    def func3(self):\n",
    "        print(\"This function is in child 2.\")"
   ]
  },
  {
   "cell_type": "code",
   "execution_count": 24,
   "metadata": {
    "id": "SLLUUSPQMQeW"
   },
   "outputs": [
    {
     "name": "stdout",
     "output_type": "stream",
     "text": [
      "This function is in parent class.\n",
      "This function is in child 1.\n",
      "This function is in parent class.\n",
      "This function is in child 2.\n"
     ]
    }
   ],
   "source": [
    "object1 = Child1()\n",
    "object2 = Child2()\n",
    "object1.func1()\n",
    "object1.func2()\n",
    "object2.func1()\n",
    "object2.func3()"
   ]
  },
  {
   "cell_type": "markdown",
   "metadata": {
    "id": "ySTXb6GMWIjt"
   },
   "source": [
    "**Hybrid inheritance**"
   ]
  },
  {
   "cell_type": "code",
   "execution_count": 27,
   "metadata": {
    "id": "P8PMEb88ScLM"
   },
   "outputs": [],
   "source": [
    "class School:\n",
    "    def func1(self):\n",
    "        print(\"This function is in school.\")\n",
    "\n",
    "class Student1(School):\n",
    "    def func2(self):\n",
    "        print(\"This function is in student 1. \")\n",
    "\n",
    "class Student2(School):\n",
    "    def func3(self):\n",
    "        print(\"This function is in student 2.\")\n",
    " \n",
    "class Student3(Student1, School):\n",
    "    def func4(self):\n",
    "        print(\"This function is in student 3.\")\n",
    " "
   ]
  },
  {
   "cell_type": "code",
   "execution_count": 28,
   "metadata": {
    "id": "7wzj0eVlScPa"
   },
   "outputs": [
    {
     "name": "stdout",
     "output_type": "stream",
     "text": [
      "This function is in school.\n",
      "This function is in student 1. \n"
     ]
    }
   ],
   "source": [
    "object = Student3()\n",
    "object.func1()\n",
    "object.func2()"
   ]
  },
  {
   "cell_type": "markdown",
   "metadata": {
    "id": "sEozEqnTWdKb"
   },
   "source": [
    "**Overriding**"
   ]
  },
  {
   "cell_type": "markdown",
   "metadata": {
    "id": "k9ZRAkKOXoXs"
   },
   "source": [
    "Overiding is an example of run time polymorphism\n",
    "A child class method overides the parent class method of the same name, same parameter and retrun type"
   ]
  },
  {
   "cell_type": "code",
   "execution_count": 29,
   "metadata": {
    "id": "TL5NweFxZVho"
   },
   "outputs": [],
   "source": [
    "class Base:\n",
    "  def add(self, a , b):\n",
    "    return a + b\n",
    "class Derived:\n",
    "  def add(self, a , b,c):\n",
    "    return a + b + c "
   ]
  },
  {
   "cell_type": "code",
   "execution_count": 30,
   "metadata": {
    "id": "D-7pBiAUZVXU"
   },
   "outputs": [
    {
     "name": "stdout",
     "output_type": "stream",
     "text": [
      "3\n",
      "6\n"
     ]
    }
   ],
   "source": [
    "base=Base()\n",
    "derived=Derived()\n",
    "print(base.add(1,2))\n",
    "print(derived.add(1,2,3))"
   ]
  },
  {
   "cell_type": "code",
   "execution_count": 31,
   "metadata": {
    "id": "p_yyw-mTScSU"
   },
   "outputs": [],
   "source": [
    "class A:\n",
    "    def first(self):\n",
    "        print(\"First function of class A\")\n",
    "\n",
    "    def second(self):\n",
    "        print('Second function of class A')\n",
    "\n",
    "class B(A):\n",
    "    # Overriden Function\n",
    "    def first(self):\n",
    "        print(\"Redefined function of class A in class B\")\n",
    "\n",
    "    def display(self):\n",
    "        print('Display Function of Child class')"
   ]
  },
  {
   "cell_type": "code",
   "execution_count": 32,
   "metadata": {
    "id": "O4WhIyw9ScVJ"
   },
   "outputs": [
    {
     "name": "stdout",
     "output_type": "stream",
     "text": [
      "Method Overriding\n",
      "\n",
      "Redefined function of class A in class B\n",
      "First function of class A\n"
     ]
    }
   ],
   "source": [
    "if(__name__ == \"__main__\"):\n",
    "    child_obj = B()\n",
    "    print(\"Method Overriding\\n\")\n",
    "    child_obj.first()\n",
    "    A().first()"
   ]
  },
  {
   "cell_type": "markdown",
   "metadata": {
    "id": "52cdlaRQaSis"
   },
   "source": [
    "**Overloading**"
   ]
  },
  {
   "cell_type": "markdown",
   "metadata": {
    "id": "kqLCSj5baVaF"
   },
   "source": [
    "overloading is an example of complie time polymorphism\n",
    "uisng which we can define two or more method in the same class and same name but with different parameter"
   ]
  },
  {
   "cell_type": "code",
   "execution_count": 33,
   "metadata": {
    "id": "y3USEOa9ScZQ"
   },
   "outputs": [
    {
     "name": "stdout",
     "output_type": "stream",
     "text": [
      "6\n",
      "16\n"
     ]
    }
   ],
   "source": [
    "def add(*args):\n",
    "  if(len(args)==2): return args[0]+args[1]\n",
    "  result = 0\n",
    "\n",
    "  for x in args:\n",
    "    result +=x\n",
    "\n",
    "  return result\n",
    "\n",
    "print(add(1,2,3))\n",
    "print(add(1,2,3,6,4))"
   ]
  },
  {
   "cell_type": "markdown",
   "metadata": {
    "id": "BD5SiXh2Q6_o"
   },
   "source": [
    "**ENCAPSULATION**\n",
    "\n",
    "> Encapsulation is a mechanism of wrapping the data (variables) and code acting on the data (methods) together as a single unit.\n",
    "\n",
    "The data (variables) of a class will be hidden from other classes, and can be accessed only through the methods of their current class.\n",
    "\n",
    "\n",
    "\n"
   ]
  },
  {
   "cell_type": "code",
   "execution_count": 34,
   "metadata": {
    "id": "ubwtmKn-ORdC"
   },
   "outputs": [],
   "source": [
    "class SomeClass:\n",
    "  def public(self):#public function\n",
    "    print(\"public function\")\n",
    "\n",
    "  def __private(self):#private member using double underscore(\"__\")\n",
    "    print(\"private function\")"
   ]
  },
  {
   "cell_type": "code",
   "execution_count": 35,
   "metadata": {
    "id": "zO1fl7hNORgZ"
   },
   "outputs": [
    {
     "name": "stdout",
     "output_type": "stream",
     "text": [
      "public function\n",
      "private function\n"
     ]
    }
   ],
   "source": [
    "obj=SomeClass()\n",
    "obj.public()\n",
    "obj._SomeClass__private()"
   ]
  },
  {
   "cell_type": "code",
   "execution_count": 36,
   "metadata": {
    "id": "u-bL8AoWORjW"
   },
   "outputs": [],
   "source": [
    "class Account:\n",
    "  def __init__(self):\n",
    "    self.setBalance(10)\n",
    "  def setBalance(self,balance):\n",
    "    self.__balance=balance\n",
    "  def getBalance(self):\n",
    "    print(self.__balance)"
   ]
  },
  {
   "cell_type": "code",
   "execution_count": 37,
   "metadata": {
    "id": "VCJ7ILm-ORmA"
   },
   "outputs": [
    {
     "name": "stdout",
     "output_type": "stream",
     "text": [
      "10\n",
      "20\n"
     ]
    }
   ],
   "source": [
    "obj=Account()\n",
    "obj.getBalance()\n",
    "obj.setBalance(20)\n",
    "obj.getBalance()"
   ]
  },
  {
   "cell_type": "markdown",
   "metadata": {
    "id": "9IGuwqzBZYjI"
   },
   "source": [
    "**POLYMORPHISM**"
   ]
  },
  {
   "cell_type": "markdown",
   "metadata": {
    "id": "Z83PJc6sZjUQ"
   },
   "source": [
    "If one task is performed in different wa knowm as polymorphism.\n",
    "There are two types:\n",
    "1.run-time poly.\n",
    "2.complie time poly."
   ]
  },
  {
   "cell_type": "code",
   "execution_count": 38,
   "metadata": {
    "id": "ceNHj568ORnz"
   },
   "outputs": [],
   "source": [
    "class Worker:\n",
    "  def work(self):\n",
    "    print(\"Working\")\n",
    "\n",
    "  def perfrom_task(self):\n",
    "    print(\"Performing task:\",end='')\n",
    "    self.work()\n",
    "    \n",
    "class DeliveryMan(Worker):\n",
    "  def work(self):\n",
    "    print(\"Delivery is good\")\n",
    "\n",
    "class LumberJack(Worker):\n",
    "  def work(self):\n",
    "    print(\"Cutting woods is good\")"
   ]
  },
  {
   "cell_type": "code",
   "execution_count": 39,
   "metadata": {
    "id": "rk5F-ZrcORqZ"
   },
   "outputs": [
    {
     "name": "stdout",
     "output_type": "stream",
     "text": [
      "Performing task:Delivery is good\n",
      "Performing task:Cutting woods is good\n"
     ]
    }
   ],
   "source": [
    "deliveryman=DeliveryMan()\n",
    "lumberjack=LumberJack()\n",
    "deliveryman.perfrom_task()\n",
    "lumberjack.perfrom_task()"
   ]
  },
  {
   "cell_type": "code",
   "execution_count": null,
   "metadata": {
    "id": "L7PpF6OsORs7"
   },
   "outputs": [],
   "source": []
  },
  {
   "cell_type": "code",
   "execution_count": null,
   "metadata": {},
   "outputs": [],
   "source": []
  }
 ],
 "metadata": {
  "accelerator": "GPU",
  "colab": {
   "private_outputs": true,
   "provenance": []
  },
  "gpuClass": "standard",
  "kernelspec": {
   "display_name": "Python 3 (ipykernel)",
   "language": "python",
   "name": "python3"
  },
  "language_info": {
   "codemirror_mode": {
    "name": "ipython",
    "version": 3
   },
   "file_extension": ".py",
   "mimetype": "text/x-python",
   "name": "python",
   "nbconvert_exporter": "python",
   "pygments_lexer": "ipython3",
   "version": "3.9.13"
  }
 },
 "nbformat": 4,
 "nbformat_minor": 4
}
