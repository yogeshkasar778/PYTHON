{
 "cells": [
  {
   "cell_type": "markdown",
   "metadata": {
    "id": "1KuGVK-8bwEH"
   },
   "source": [
    "## **PYTHON**"
   ]
  },
  {
   "cell_type": "markdown",
   "metadata": {
    "id": "XLzfGhWiIf9u"
   },
   "source": [
    "Python is a widely used general purpose, high level programming language.\n",
    "It was created by Gauido van Rassym in 1991 and further develope by the python software foundation.\n",
    "It also performs automatic memory management, it generally has small programs when compared to java and c.\n",
    "Python is most powerful,fexiable and easy to use language"
   ]
  },
  {
   "cell_type": "markdown",
   "metadata": {
    "id": "WxJ0A-gYKuhe"
   },
   "source": [
    "**Operators**"
   ]
  },
  {
   "cell_type": "code",
   "execution_count": 1,
   "metadata": {
    "id": "rTT3sfZhKO8V"
   },
   "outputs": [
    {
     "name": "stdout",
     "output_type": "stream",
     "text": [
      "Addition: 7\n",
      "Subtraction: -1\n",
      "Multiplication: 12\n",
      "Division: 0.75\n"
     ]
    }
   ],
   "source": [
    "#Arithmatic Operators\n",
    "print(\"Addition:\",3+4)\n",
    "print(\"Subtraction:\",3-4)\n",
    "print(\"Multiplication:\",3*4)\n",
    "print(\"Division:\",3/4)"
   ]
  },
  {
   "cell_type": "code",
   "execution_count": 2,
   "metadata": {
    "id": "fdjtWAoFKOgN"
   },
   "outputs": [
    {
     "name": "stdout",
     "output_type": "stream",
     "text": [
      "60\n",
      "50\n",
      "500\n"
     ]
    }
   ],
   "source": [
    "#Assigment Operators\n",
    "x=50\n",
    "x+=10\n",
    "print(x)\n",
    "x-=10\n",
    "print(x)\n",
    "x*=10\n",
    "print(x)"
   ]
  },
  {
   "cell_type": "code",
   "execution_count": 3,
   "metadata": {
    "id": "Tms021DlMDNc"
   },
   "outputs": [
    {
     "name": "stdout",
     "output_type": "stream",
     "text": [
      "False\n",
      "True\n",
      "True\n"
     ]
    }
   ],
   "source": [
    "#Comparison operators\n",
    "x=10\n",
    "y=20\n",
    "print(x==y)\n",
    "x=10\n",
    "y=10\n",
    "print(x==y)\n",
    "x=10\n",
    "y=20\n",
    "print(x<=y)"
   ]
  },
  {
   "cell_type": "code",
   "execution_count": 4,
   "metadata": {
    "id": "R6U6-MqgMDF8"
   },
   "outputs": [
    {
     "data": {
      "text/plain": [
       "False"
      ]
     },
     "execution_count": 4,
     "metadata": {},
     "output_type": "execute_result"
    }
   ],
   "source": [
    "#logical operators\n",
    "x==15 and y!=16"
   ]
  },
  {
   "cell_type": "markdown",
   "metadata": {
    "id": "9hJTzIGDOzsG"
   },
   "source": [
    "**Strings**"
   ]
  },
  {
   "cell_type": "markdown",
   "metadata": {
    "id": "MFad1EnfO5FG"
   },
   "source": [
    "A string is a sequence of characters that can be a combination of letters, number and special charaeters.\n",
    "Using single quotes(') and double quotes(\")"
   ]
  },
  {
   "cell_type": "code",
   "execution_count": 5,
   "metadata": {
    "id": "F_rJCSwFPnEK"
   },
   "outputs": [
    {
     "name": "stdout",
     "output_type": "stream",
     "text": [
      "<class 'str'>\n",
      "k\n",
      "ytho\n"
     ]
    }
   ],
   "source": [
    "var1=\"okay\"\n",
    "var2=\"pythontutorial\"\n",
    "print(type(var1))\n",
    "print(var1[1])\n",
    "print(var2[1:5])"
   ]
  },
  {
   "cell_type": "markdown",
   "metadata": {
    "id": "8LzrXz8CQ0jn"
   },
   "source": [
    "**Tuples**\n",
    "\n",
    "\n"
   ]
  },
  {
   "cell_type": "markdown",
   "metadata": {
    "id": "pBmGskMxQ9Zf"
   },
   "source": [
    "A tuples is sequence of immutable python object.\n",
    "Tuple is a collection of python objects stored much like list. ()\n",
    "\n"
   ]
  },
  {
   "cell_type": "code",
   "execution_count": 6,
   "metadata": {
    "id": "PaNNJGXLRtDO"
   },
   "outputs": [
    {
     "name": "stdout",
     "output_type": "stream",
     "text": [
      "(1, 2, 3, 4, 5)\n"
     ]
    }
   ],
   "source": [
    "#use list\n",
    "list1=[1,2,3,4,5]\n",
    "print(tuple(list1))"
   ]
  },
  {
   "cell_type": "code",
   "execution_count": 7,
   "metadata": {
    "id": "mEz23w7lR6pn"
   },
   "outputs": [
    {
     "name": "stdout",
     "output_type": "stream",
     "text": [
      "('y', 'o', 'g', 'e', 's', 'h')\n"
     ]
    }
   ],
   "source": [
    "Tup=(tuple(\"yogesh\"))\n",
    "print(Tup)"
   ]
  },
  {
   "cell_type": "code",
   "execution_count": 8,
   "metadata": {
    "id": "OPqugkvRR6mn"
   },
   "outputs": [
    {
     "name": "stdout",
     "output_type": "stream",
     "text": [
      "yogeshyogeshyogesh\n"
     ]
    }
   ],
   "source": [
    "Tuple=(\"yogesh\")*3\n",
    "print(Tuple)"
   ]
  },
  {
   "cell_type": "markdown",
   "metadata": {
    "id": "abwhUlzqTB4n"
   },
   "source": [
    "**List**"
   ]
  },
  {
   "cell_type": "markdown",
   "metadata": {
    "id": "n_RO4GajTKV-"
   },
   "source": [
    "List is a sequence of mutable objects.\n",
    "\n",
    "list is collection of things enclosed [] and separated by commas"
   ]
  },
  {
   "cell_type": "code",
   "execution_count": 9,
   "metadata": {
    "id": "gMhl0gCpTHPH"
   },
   "outputs": [
    {
     "name": "stdout",
     "output_type": "stream",
     "text": [
      "['a', 1, 2.5, 3, 'python']\n"
     ]
    }
   ],
   "source": [
    "list1=['a',1,2.5,3,\"python\"]\n",
    "print(list1)"
   ]
  },
  {
   "cell_type": "code",
   "execution_count": 10,
   "metadata": {
    "id": "XMHySTxvUK7l"
   },
   "outputs": [
    {
     "name": "stdout",
     "output_type": "stream",
     "text": [
      "5\n"
     ]
    }
   ],
   "source": [
    "list1=['a',1,2.5,3,\"python\"]\n",
    "print(len(list1))"
   ]
  },
  {
   "cell_type": "code",
   "execution_count": 11,
   "metadata": {
    "id": "n6nWxxigTHLM"
   },
   "outputs": [
    {
     "name": "stdout",
     "output_type": "stream",
     "text": [
      "['a', 1, 2.5, 3, 'python', 0]\n"
     ]
    }
   ],
   "source": [
    "list1=['a',1,2.5,3,\"python\"]\n",
    "list1.append(0)\n",
    "print(list1)"
   ]
  },
  {
   "cell_type": "code",
   "execution_count": 12,
   "metadata": {
    "id": "dFXP3so_THIk"
   },
   "outputs": [
    {
     "name": "stdout",
     "output_type": "stream",
     "text": [
      "['python', 3, 2.5, 1, 'a']\n"
     ]
    }
   ],
   "source": [
    "list1=['a',1,2.5,3,\"python\"]\n",
    "list1.reverse()\n",
    "print(list1)"
   ]
  },
  {
   "cell_type": "code",
   "execution_count": 13,
   "metadata": {
    "id": "yfVScCS7THF5"
   },
   "outputs": [
    {
     "name": "stdout",
     "output_type": "stream",
     "text": [
      "['a', 1, 3, 'python']\n"
     ]
    }
   ],
   "source": [
    "list1=['a',1,2.5,3,\"python\"]\n",
    "list1.remove(2.5)\n",
    "print(list1)"
   ]
  },
  {
   "cell_type": "markdown",
   "metadata": {
    "id": "9uYKJ8qTVCXH"
   },
   "source": [
    "**Dictionaries**"
   ]
  },
  {
   "cell_type": "markdown",
   "metadata": {
    "id": "07GLsxeqVLvP"
   },
   "source": [
    "Dictionaries is an unorded collection of data.\n",
    "Dictionarrie is a mutable.{:}\n"
   ]
  },
  {
   "cell_type": "code",
   "execution_count": 14,
   "metadata": {
    "id": "1vCtarSyTHDn"
   },
   "outputs": [
    {
     "name": "stdout",
     "output_type": "stream",
     "text": [
      "{1: 'yogesh', 2: 'Vivek', 3: 'Kasar'}\n"
     ]
    }
   ],
   "source": [
    "mydict={1:\"yogesh\",2:\"Vivek\",3:\"Kasar\"}\n",
    "print(mydict)"
   ]
  },
  {
   "cell_type": "code",
   "execution_count": 15,
   "metadata": {
    "id": "Jed8dUb0WC1E"
   },
   "outputs": [
    {
     "name": "stdout",
     "output_type": "stream",
     "text": [
      "{'name': 'yogesh', 1: [1, 2, 3, 4]}\n"
     ]
    }
   ],
   "source": [
    "mydict={'name':'yogesh', 1:[1,2,3,4]}\n",
    "print(mydict)"
   ]
  },
  {
   "cell_type": "code",
   "execution_count": 16,
   "metadata": {
    "id": "77w-p2NKWCxm"
   },
   "outputs": [
    {
     "name": "stdout",
     "output_type": "stream",
     "text": [
      "{'name': 'yogesh', 1: [1, 2, 3, 4]}\n"
     ]
    }
   ],
   "source": [
    "dict2=mydict.copy()\n",
    "print(dict2)"
   ]
  },
  {
   "cell_type": "code",
   "execution_count": 17,
   "metadata": {
    "id": "9_8eCqrWWCt-"
   },
   "outputs": [
    {
     "name": "stdout",
     "output_type": "stream",
     "text": [
      "None\n"
     ]
    }
   ],
   "source": [
    "dict2=mydict.clear()\n",
    "print(dict2)"
   ]
  },
  {
   "cell_type": "markdown",
   "metadata": {
    "id": "qByd_f48Igmi"
   },
   "source": [
    "**sets**"
   ]
  },
  {
   "cell_type": "code",
   "execution_count": 18,
   "metadata": {
    "id": "0679E3xMFcUQ"
   },
   "outputs": [
    {
     "name": "stdout",
     "output_type": "stream",
     "text": [
      "{1, 2, 3}\n"
     ]
    }
   ],
   "source": [
    "myset={1,2,3}\n",
    "myset={1,2,3,3}\n",
    "print(myset)"
   ]
  },
  {
   "cell_type": "code",
   "execution_count": 19,
   "metadata": {
    "id": "Qh3X_lmdFkLq",
    "tags": []
   },
   "outputs": [
    {
     "data": {
      "text/plain": [
       "{1, 2, 'b', 'c'}"
      ]
     },
     "execution_count": 19,
     "metadata": {},
     "output_type": "execute_result"
    }
   ],
   "source": [
    "myset1={1,2,'c'}\n",
    "myset2={1,'b','c'}\n",
    "myset1|myset2"
   ]
  },
  {
   "cell_type": "code",
   "execution_count": 20,
   "metadata": {
    "id": "dgFt5uUNFkOh"
   },
   "outputs": [
    {
     "name": "stdout",
     "output_type": "stream",
     "text": [
      "{'a', 'k', 'g', 's', 'r', 'y', 'o', 'h', 'e'}\n"
     ]
    }
   ],
   "source": [
    "set1=set(\"yogeshkasar\")\n",
    "print(set1)"
   ]
  },
  {
   "cell_type": "code",
   "execution_count": 21,
   "metadata": {
    "id": "_kw_2HyCFkRj"
   },
   "outputs": [
    {
     "name": "stdout",
     "output_type": "stream",
     "text": [
      "{'g', 's', 'y', 'o', 'h', 'e'}\n"
     ]
    }
   ],
   "source": [
    "string='yogesh'\n",
    "set1=set(string)\n",
    "print(set1)"
   ]
  },
  {
   "cell_type": "code",
   "execution_count": 22,
   "metadata": {
    "id": "unMmBgzdFkTx"
   },
   "outputs": [
    {
     "name": "stdout",
     "output_type": "stream",
     "text": [
      "{1, 2, 3, 4, 5, 6}\n"
     ]
    }
   ],
   "source": [
    "set1=set([1,2,3,4,5,6])\n",
    "print(set1)"
   ]
  },
  {
   "cell_type": "code",
   "execution_count": 23,
   "metadata": {
    "id": "oypxlijeFkXJ"
   },
   "outputs": [
    {
     "name": "stdout",
     "output_type": "stream",
     "text": [
      "set()\n",
      "{8, 9}\n",
      "{1, 2, 3, 4, 5, 8, 9}\n"
     ]
    }
   ],
   "source": [
    "set1=set()\n",
    "print(set1)\n",
    "set1.add(8)\n",
    "set1.add(9)\n",
    "print(set1)\n",
    "for i in range(1,6):\n",
    "  set1.add(i)\n",
    "print(set1)"
   ]
  },
  {
   "cell_type": "code",
   "execution_count": 24,
   "metadata": {
    "id": "0wBonSEsPjJz"
   },
   "outputs": [
    {
     "name": "stdout",
     "output_type": "stream",
     "text": [
      "{1, 2, 3, 4, 5, 8, 9, 10, 12}\n"
     ]
    }
   ],
   "source": [
    "set1.update([10,12])\n",
    "print(set1)"
   ]
  },
  {
   "cell_type": "code",
   "execution_count": 25,
   "metadata": {
    "id": "Qa85ncTtPjMg"
   },
   "outputs": [
    {
     "name": "stdout",
     "output_type": "stream",
     "text": [
      "{'geeks', 'for'}\n",
      "geeks for False\n"
     ]
    }
   ],
   "source": [
    "set1=set([\"geeks\",\"for\",\"geeks\"])\n",
    "print(set1)\n",
    "for i in set1:\n",
    " print(i,end=\" \")\n",
    "print(\"geek\"in set1)"
   ]
  },
  {
   "cell_type": "code",
   "execution_count": 26,
   "metadata": {
    "id": "xfNYmSVtPjPI"
   },
   "outputs": [
    {
     "name": "stdout",
     "output_type": "stream",
     "text": [
      "frozenset({'g', 's', 'y', 'o', 'h', 'e'})\n",
      "frozenset()\n"
     ]
    }
   ],
   "source": [
    "string=('y','o','g','e','s','h')\n",
    "fset1=frozenset(string)\n",
    "print(fset1)\n",
    "print(frozenset())"
   ]
  },
  {
   "cell_type": "markdown",
   "metadata": {
    "id": "5knzJLYqK_NU"
   },
   "source": [
    "#conditional statement"
   ]
  },
  {
   "cell_type": "code",
   "execution_count": 27,
   "metadata": {
    "id": "CPTgIzctLHiL"
   },
   "outputs": [
    {
     "name": "stdout",
     "output_type": "stream",
     "text": [
      "15 is greater than 10\n"
     ]
    }
   ],
   "source": [
    "i=10\n",
    "if(i>15):\n",
    "  print(\"10 is less than 15\")\n",
    "print(\"15 is greater than 10\")"
   ]
  },
  {
   "cell_type": "code",
   "execution_count": 28,
   "metadata": {
    "id": "Fj5rvExWLHlG"
   },
   "outputs": [
    {
     "name": "stdout",
     "output_type": "stream",
     "text": [
      "i is greater than 15\n"
     ]
    }
   ],
   "source": [
    "i=20 #if-else\n",
    "if(i<15):\n",
    "  print(\"i is smaller than 15\")\n",
    "else:\n",
    "  print(\"i is greater than 15\")"
   ]
  },
  {
   "cell_type": "code",
   "execution_count": 29,
   "metadata": {
    "id": "BOSQ-HXULHn9"
   },
   "outputs": [
    {
     "name": "stdout",
     "output_type": "stream",
     "text": [
      "x is greater than 20\n"
     ]
    }
   ],
   "source": [
    "x=25\n",
    "if(x<20):\n",
    "  print(\"x is less than 20\")\n",
    "elif(x==20):\n",
    "  print(\"x is equal 20\")\n",
    "else:\n",
    "  print(\"x is greater than 20\")"
   ]
  },
  {
   "cell_type": "code",
   "execution_count": 30,
   "metadata": {
    "id": "tXpH6g6lLHqc"
   },
   "outputs": [
    {
     "name": "stdout",
     "output_type": "stream",
     "text": [
      "x is less than 20\n",
      "x is less than 15\n"
     ]
    }
   ],
   "source": [
    "x=10\n",
    "if(x<20):\n",
    "  print(\"x is less than 20\")\n",
    "  if(x<15):\n",
    "    print(\"x is less than 15\")\n",
    "  else:\n",
    "    print(\"x is greater than 15\")\n",
    "else:\n",
    "  print(\"x is greater than 20\")"
   ]
  },
  {
   "cell_type": "code",
   "execution_count": 33,
   "metadata": {
    "id": "TC-W9XC-LHsx"
   },
   "outputs": [
    {
     "name": "stdout",
     "output_type": "stream",
     "text": [
      "grade is B\n"
     ]
    }
   ],
   "source": [
    " #elif statement\n",
    "marks=85\n",
    "if(marks>=90):\n",
    "  print(\"grade is A\")\n",
    "elif(marks>=80):\n",
    "    print(\"grade is B\")\n",
    "else:\n",
    "  print(\"grade is c\")  "
   ]
  },
  {
   "cell_type": "code",
   "execution_count": 34,
   "metadata": {
    "id": "xh74c5m2LHvR"
   },
   "outputs": [
    {
     "name": "stdin",
     "output_type": "stream",
     "text": [
      "entre the number 10\n"
     ]
    },
    {
     "name": "stdout",
     "output_type": "stream",
     "text": [
      "the number is even\n"
     ]
    }
   ],
   "source": [
    "#checking the odd number\n",
    "num=int(input(\"entre the number\"))\n",
    "if(num%2)==0:\n",
    "  print(\"the number is even\")\n",
    "else:\n",
    "  print(\"the number is odd\")"
   ]
  },
  {
   "cell_type": "markdown",
   "metadata": {
    "id": "qFhnx9tH0tfy"
   },
   "source": [
    "**looping statement**\n",
    "\n"
   ]
  },
  {
   "cell_type": "code",
   "execution_count": 35,
   "metadata": {
    "id": "nnEpGCOiLHxc"
   },
   "outputs": [
    {
     "name": "stdout",
     "output_type": "stream",
     "text": [
      "apple\n",
      "banana\n",
      "cherry\n"
     ]
    }
   ],
   "source": [
    "#for loop-\n",
    "fruits=[\"apple\",\"banana\",\"cherry\"]\n",
    "for x in fruits:\n",
    "  print(x)"
   ]
  },
  {
   "cell_type": "code",
   "execution_count": 36,
   "metadata": {
    "id": "LDFHfRigLHz1"
   },
   "outputs": [
    {
     "name": "stdout",
     "output_type": "stream",
     "text": [
      "0\n",
      "1\n",
      "2\n",
      "3\n",
      "4\n",
      "5\n",
      "6\n",
      "7\n",
      "8\n",
      "9\n"
     ]
    }
   ],
   "source": [
    "for i in range (0,10):\n",
    "  print(i)"
   ]
  },
  {
   "cell_type": "code",
   "execution_count": 37,
   "metadata": {
    "id": "OOlllV971IMy"
   },
   "outputs": [
    {
     "name": "stdout",
     "output_type": "stream",
     "text": [
      "1\n",
      "3\n",
      "hello\n",
      "hello\n",
      "hello\n"
     ]
    }
   ],
   "source": [
    "#while loop\n",
    "a=1\n",
    "while (a<5):\n",
    "  print(a)\n",
    "  a+=2\n",
    "\n",
    "count=0\n",
    "while(count<3):\n",
    "  count=count+1\n",
    "  print((\"hello\"))"
   ]
  },
  {
   "cell_type": "markdown",
   "metadata": {
    "id": "w1r81eARLPr_"
   },
   "source": [
    "**hands on looping statement**\n"
   ]
  },
  {
   "cell_type": "code",
   "execution_count": 38,
   "metadata": {
    "id": "552jnab-1IO6"
   },
   "outputs": [
    {
     "name": "stdout",
     "output_type": "stream",
     "text": [
      "0, 1, 2, 3, 4, 5, 6, 7, 8, 9, "
     ]
    }
   ],
   "source": [
    "#comprehention\n",
    "'''num=[x for x in range(0,10)]\n",
    "for x in num:\n",
    "  print (x, end=\", \")'''\n",
    "for x in range(0,10):\n",
    "   print(x, end=\", \")"
   ]
  },
  {
   "cell_type": "code",
   "execution_count": 39,
   "metadata": {
    "id": "XPnWx3rH1IQ6"
   },
   "outputs": [
    {
     "name": "stdout",
     "output_type": "stream",
     "text": [
      "0,1,2,3,4,6,7,8,9,"
     ]
    }
   ],
   "source": [
    "for x in range (0,10):\n",
    "  if(x==5):\n",
    "    #break\n",
    "    continue \n",
    "  print(x,end=\",\")\n"
   ]
  },
  {
   "cell_type": "code",
   "execution_count": 40,
   "metadata": {
    "id": "h4szc8Vj1ITp"
   },
   "outputs": [
    {
     "name": "stdout",
     "output_type": "stream",
     "text": [
      "10\n",
      "9\n",
      "8\n",
      "7\n",
      "6\n",
      "5\n",
      "4\n",
      "3\n",
      "2\n",
      "1\n"
     ]
    }
   ],
   "source": [
    "a=10\n",
    "while a!=0:\n",
    "  print(a)\n",
    "  a-=1"
   ]
  },
  {
   "cell_type": "code",
   "execution_count": 41,
   "metadata": {
    "id": "RPC9D13T1Ia3"
   },
   "outputs": [
    {
     "name": "stdout",
     "output_type": "stream",
     "text": [
      "0,1,2,3,4,5,6,7,8,9,done\n"
     ]
    }
   ],
   "source": [
    "num=[x for x in range(0,10)]\n",
    "index=0\n",
    "while index < len(num):\n",
    "  print(num[index],end=\",\")\n",
    "  index+=1\n",
    "print(\"done\")\n"
   ]
  },
  {
   "cell_type": "code",
   "execution_count": 45,
   "metadata": {
    "id": "eH-Qxtip3w3V"
   },
   "outputs": [
    {
     "name": "stdin",
     "output_type": "stream",
     "text": [
      "entre the number 10\n"
     ]
    },
    {
     "name": "stdout",
     "output_type": "stream",
     "text": [
      "10 X 1 = 10\n",
      "10 X 2 = 20\n",
      "10 X 3 = 30\n",
      "10 X 4 = 40\n",
      "10 X 5 = 50\n",
      "10 X 6 = 60\n",
      "10 X 7 = 70\n",
      "10 X 8 = 80\n",
      "10 X 9 = 90\n",
      "10 X 10 = 100\n"
     ]
    }
   ],
   "source": [
    "#printing the multiplication table of a given number\n",
    "num=int(input(\"entre the number\"))\n",
    "for i in range(1,11):\n",
    "   print(num,'X',i,'=',num*i)\n",
    "   "
   ]
  },
  {
   "cell_type": "markdown",
   "metadata": {
    "id": "tdp2Hizi7GtM"
   },
   "source": [
    "**Creating funtion**"
   ]
  },
  {
   "cell_type": "code",
   "execution_count": 48,
   "metadata": {
    "id": "cKShh4Oy7ENG"
   },
   "outputs": [],
   "source": [
    "#user defined funtion\n",
    "def find_max():\n",
    "  result=num[0]\n",
    "  for x in nums:\n",
    "    if x > result:\n",
    "      result=x\n",
    "  return result"
   ]
  },
  {
   "cell_type": "markdown",
   "metadata": {
    "id": "IqkT6vKZ9VJT"
   },
   "source": [
    "**python class- 1-oct (lecture 3)**"
   ]
  },
  {
   "cell_type": "code",
   "execution_count": 50,
   "metadata": {
    "id": "6ovUk2WDPjRq"
   },
   "outputs": [
    {
     "name": "stdin",
     "output_type": "stream",
     "text": [
      "entre the choice1: 10\n",
      "entre the choice2: 20\n"
     ]
    },
    {
     "name": "stdout",
     "output_type": "stream",
     "text": [
      "greater number is 20\n"
     ]
    }
   ],
   "source": [
    "#create a python if-else code-6\n",
    "a= int(input(\"entre the choice1:\"))\n",
    "b= int (input(\"entre the choice2:\"))\n",
    "if a>b:\n",
    "  print(\"Greater number is\", a)\n",
    "elif a==b:\n",
    "  print(\"equal\")\n",
    "else:\n",
    "  print(\"greater number is\",b)"
   ]
  },
  {
   "cell_type": "code",
   "execution_count": 53,
   "metadata": {
    "id": "bJoyoJxSPjWU"
   },
   "outputs": [
    {
     "name": "stdin",
     "output_type": "stream",
     "text": [
      "entre number 20\n"
     ]
    },
    {
     "name": "stdout",
     "output_type": "stream",
     "text": [
      "it's not armstrong number\n"
     ]
    }
   ],
   "source": [
    "n=eval(input(\"entre number\"))\n",
    "res=0\n",
    "temp=n #temperalay\n",
    "while(n!=0):\n",
    "  rem=n%10\n",
    "  res=res+rem*rem*rem\n",
    "  n=n//10\n",
    "if(temp==res):\n",
    "  print(\"it's armstrong number\")\n",
    "else:\n",
    "  print(\"it's not armstrong number\")"
   ]
  },
  {
   "cell_type": "code",
   "execution_count": 54,
   "metadata": {
    "id": "SqMxqa3wPjZx"
   },
   "outputs": [
    {
     "name": "stdin",
     "output_type": "stream",
     "text": [
      "entre the number 10\n"
     ]
    },
    {
     "name": "stdout",
     "output_type": "stream",
     "text": [
      "not a prime number\n"
     ]
    }
   ],
   "source": [
    "#prime number code using of flag variable\n",
    "a=eval(input(\"entre the number\"))\n",
    "flag= True\n",
    "if a>1:\n",
    " for i in range(2,a):\n",
    "  if(a%i==0):\n",
    "    flag= False\n",
    "    break\n",
    "\n",
    "if flag:\n",
    "  print(\"prime number\")\n",
    "else:\n",
    "  print(\"not a prime number\")"
   ]
  },
  {
   "cell_type": "code",
   "execution_count": 55,
   "metadata": {
    "id": "mr44v7H9Qj4D"
   },
   "outputs": [
    {
     "name": "stdin",
     "output_type": "stream",
     "text": [
      "entre the number 20\n"
     ]
    },
    {
     "name": "stdout",
     "output_type": "stream",
     "text": [
      "is not a prime number\n"
     ]
    }
   ],
   "source": [
    "#using is else statement\n",
    "a=int(input(\"entre the number\"))\n",
    "if a > 1:\n",
    "   for i in range(2,int (a/2)+1):\n",
    "       if (a % i) == 0:\n",
    "           print(\"is not a prime number\")\n",
    "           break\n",
    "   else:\n",
    "       print(\" prime number\")\n",
    "       \n",
    "else:\n",
    "   print(\"not a prime number\")"
   ]
  },
  {
   "cell_type": "code",
   "execution_count": 56,
   "metadata": {
    "id": "P4HMzSWpQj67"
   },
   "outputs": [
    {
     "name": "stdin",
     "output_type": "stream",
     "text": [
      "entre first number 10\n",
      "entre second number 20\n",
      "1=addition\n",
      "2=subtractiion\n",
      "3=multiplication\n",
      "4=division\n",
      "Entre your choice 5\n"
     ]
    },
    {
     "name": "stdout",
     "output_type": "stream",
     "text": [
      "wrong choice\n"
     ]
    }
   ],
   "source": [
    "from random import choice\n",
    "#create a claculatore code program for addition, subtraction, multiplication and floor division\n",
    "def addition(a,b):\n",
    "    return a+b\n",
    "def subtraction(a,b):\n",
    "    return a-b\n",
    "def multiplication(a,b):\n",
    "    return a*b\n",
    "def divide(a,b):\n",
    "    return a/b\n",
    "a=int(input(\"entre first number\"))\n",
    "b=int(input(\"entre second number\"))\n",
    "choice=int(input(\"1=addition\\n2=subtractiion\\n3=multiplication\\n4=division\\nEntre your choice\"))\n",
    "if(choice==1):\n",
    "  print(addition(a,b))\n",
    "elif(choice==2):\n",
    "  print(subtraction(a,b))\n",
    "elif(choice==3):\n",
    "  print(multiplication(a,b))\n",
    "elif(choice==4):\n",
    "  print(divide(a,b))\n",
    "else:\n",
    "  print(\"wrong choice\")"
   ]
  },
  {
   "cell_type": "code",
   "execution_count": 57,
   "metadata": {
    "id": "3Q6xBbWKQj9s"
   },
   "outputs": [
    {
     "data": {
      "text/plain": [
       "{'key1': [1, 2, [3, 4]], 'key': [4, 5, [6, 7]]}"
      ]
     },
     "execution_count": 57,
     "metadata": {},
     "output_type": "execute_result"
    }
   ],
   "source": [
    "#create a simple dictionary \n",
    "d={\"key1\":[1,2,[3,4]],\"key\":[4,5,[6,7]]}\n",
    "d"
   ]
  },
  {
   "cell_type": "code",
   "execution_count": 58,
   "metadata": {
    "id": "Arvcb8poQkGF"
   },
   "outputs": [
    {
     "name": "stdout",
     "output_type": "stream",
     "text": [
      "{1, 2, 3}\n"
     ]
    },
    {
     "data": {
      "text/plain": [
       "{1, 2, 'b', 'c'}"
      ]
     },
     "execution_count": 58,
     "metadata": {},
     "output_type": "execute_result"
    }
   ],
   "source": [
    "#ctreat sets\n",
    "myset={1,2,3}\n",
    "myset={1,2,3,3}\n",
    "print(myset)\n",
    "myset1={1,2,'c'}\n",
    "myset2={1,'b','c'}\n",
    "myset1|myset2"
   ]
  },
  {
   "cell_type": "code",
   "execution_count": 59,
   "metadata": {
    "id": "e6YKdndniM99"
   },
   "outputs": [
    {
     "name": "stdout",
     "output_type": "stream",
     "text": [
      "{1, 2, 3, 4, 7, 9}\n",
      "{1, 2, 3, 4, 5, 6}\n",
      "{1, 2, 3, 4, 5, 6, 7, 9}\n",
      "{1, 2, 3, 4}\n"
     ]
    }
   ],
   "source": [
    "set1={1,2,3,4,7,9}\n",
    "print(set1)\n",
    "set2={1,2,3,4,5,6}\n",
    "print(set2)\n",
    "print(set1.union(set2))\n",
    "print(set1.intersection(set2))"
   ]
  },
  {
   "cell_type": "code",
   "execution_count": 60,
   "metadata": {
    "id": "gDY_auJIiNB1"
   },
   "outputs": [
    {
     "data": {
      "text/plain": [
       "(('key1', [1, 2, [3, 4]]), ('key', [4, 5, [6, 7]]))"
      ]
     },
     "execution_count": 60,
     "metadata": {},
     "output_type": "execute_result"
    }
   ],
   "source": [
    "tuple(d.items())"
   ]
  },
  {
   "cell_type": "code",
   "execution_count": 61,
   "metadata": {
    "id": "J0ZYvK7xiNFk"
   },
   "outputs": [
    {
     "name": "stdout",
     "output_type": "stream",
     "text": [
      "('yogesh', 'kasar')\n"
     ]
    }
   ],
   "source": [
    "t1=('yogesh')\n",
    "t2=('kasar')\n",
    "t3=(t1,t2)\n",
    "print(t3)\n"
   ]
  },
  {
   "cell_type": "code",
   "execution_count": 62,
   "metadata": {
    "id": "6rFjArbdiNJD"
   },
   "outputs": [
    {
     "name": "stdout",
     "output_type": "stream",
     "text": [
      "[0, 2, 4, 6, 8, 10, 12, 14, 16, 18, 20, 22, 24, 26, 28, 30, 32, 34, 36, 38, 40, 42, 44, 46, 48, 50]\n"
     ]
    }
   ],
   "source": [
    "l=list(range(0,51,2))\n",
    "print(l)"
   ]
  },
  {
   "cell_type": "code",
   "execution_count": 63,
   "metadata": {
    "id": "z8gIsUO9kv_b"
   },
   "outputs": [
    {
     "name": "stdout",
     "output_type": "stream",
     "text": [
      "26\n"
     ]
    }
   ],
   "source": [
    "print(len(l))"
   ]
  },
  {
   "cell_type": "code",
   "execution_count": 64,
   "metadata": {
    "id": "qld6DLn5kwC7"
   },
   "outputs": [
    {
     "data": {
      "text/plain": [
       "22"
      ]
     },
     "execution_count": 64,
     "metadata": {},
     "output_type": "execute_result"
    }
   ],
   "source": [
    "l.index(44)"
   ]
  },
  {
   "cell_type": "code",
   "execution_count": 65,
   "metadata": {
    "id": "L3PAEnCzkwGL"
   },
   "outputs": [
    {
     "name": "stdout",
     "output_type": "stream",
     "text": [
      "[0, 2, 4, 100, 8, 10, 12, 14, 16, 18, 20, 22, 24, 26, 28, 30, 32, 34, 36, 38, 40, 42, 44, 46, 48, 50]\n"
     ]
    }
   ],
   "source": [
    "l[3]=100\n",
    "print(l)"
   ]
  },
  {
   "cell_type": "code",
   "execution_count": 66,
   "metadata": {
    "id": "6aJ6-bVhmdVE"
   },
   "outputs": [
    {
     "name": "stdout",
     "output_type": "stream",
     "text": [
      "[0, 4, 16, 10000, 64, 100, 144, 196, 256, 324, 400, 484, 576, 676, 784, 900, 1024, 1156, 1296, 1444, 1600, 1764, 1936, 2116, 2304, 2500]\n"
     ]
    }
   ],
   "source": [
    "sqr=[x*x for x in l]\n",
    "print(sqr)"
   ]
  },
  {
   "cell_type": "markdown",
   "metadata": {
    "id": "FPiosRM3IHel"
   },
   "source": [
    "**object oriented language (oops)-(lecture-4)**"
   ]
  },
  {
   "cell_type": "code",
   "execution_count": 69,
   "metadata": {
    "id": "NJNVmWdmmdXU"
   },
   "outputs": [],
   "source": [
    "class demo:\n",
    "  def greet(self,name,id):#self is mandatory is pointing  to the call of currunt object- keyword\n",
    "    print(\"Hello\",name,\"your id is: \",id)"
   ]
  },
  {
   "cell_type": "code",
   "execution_count": 70,
   "metadata": {
    "id": "g0EmPCDKmdaJ"
   },
   "outputs": [
    {
     "name": "stdout",
     "output_type": "stream",
     "text": [
      "Hello diya your id is:  2\n"
     ]
    }
   ],
   "source": [
    "d=demo()\n",
    "d.greet('diya',2)"
   ]
  },
  {
   "cell_type": "code",
   "execution_count": 71,
   "metadata": {
    "id": "Pq8KlJ4Hmdc5"
   },
   "outputs": [],
   "source": [
    "#class is combination data member and member function\n"
   ]
  },
  {
   "cell_type": "code",
   "execution_count": 72,
   "metadata": {
    "id": "ZWZBo32Jmdg2"
   },
   "outputs": [],
   "source": [
    "class human:\n",
    "  def walk(self):\n",
    "    print(\"walking\")\n",
    "  def sing(self):\n",
    "    print(\"singing\")\n",
    "    "
   ]
  },
  {
   "cell_type": "code",
   "execution_count": 73,
   "metadata": {
    "id": "Xe-x2ensMiMU"
   },
   "outputs": [
    {
     "name": "stdout",
     "output_type": "stream",
     "text": [
      "walking\n"
     ]
    }
   ],
   "source": [
    "yogesh=human()\n",
    "yogesh.walk()"
   ]
  },
  {
   "cell_type": "code",
   "execution_count": 74,
   "metadata": {
    "id": "PM-FLx5kMiOu"
   },
   "outputs": [
    {
     "name": "stdout",
     "output_type": "stream",
     "text": [
      "5\n",
      "-1\n"
     ]
    }
   ],
   "source": [
    "class calculator:\n",
    "  def __init__(self,a,b):#magic method\n",
    "    self.a=a\n",
    "    self.b=b\n",
    "  def add(self):\n",
    "    print(self.a+self.b)\n",
    "  def sub(self):\n",
    "    print(self.a-self.b)\n",
    "\n",
    "c=calculator(2,3)\n",
    "#c.setdata(2,3)\n",
    "c.add()\n",
    "c.sub()"
   ]
  },
  {
   "cell_type": "code",
   "execution_count": 75,
   "metadata": {
    "id": "Oafd1sBoO9S7"
   },
   "outputs": [
    {
     "name": "stdout",
     "output_type": "stream",
     "text": [
      "yogesh kasar\n"
     ]
    }
   ],
   "source": [
    "#constructor\n",
    "class Sample:\n",
    "  def __init__(self):\n",
    "    self.name = \"yogesh kasar\"\n",
    "  def disp(self):\n",
    "    print(self.name)\n",
    "obj=Sample()\n",
    "obj.disp()"
   ]
  },
  {
   "cell_type": "code",
   "execution_count": 76,
   "metadata": {
    "id": "diA5kjZDO9Vt"
   },
   "outputs": [
    {
     "name": "stdout",
     "output_type": "stream",
     "text": [
      "This is child gun\n",
      "This is parent fun\n"
     ]
    }
   ],
   "source": [
    "#inheritance-single\n",
    "class Parent: \n",
    "  def fun(self):\n",
    "    print(\"This is parent fun\")\n",
    "\n",
    "class child(Parent):\n",
    "  def gun(self):\n",
    "    print(\"This is child gun\")\n",
    "\n",
    "c=child()\n",
    "c.gun()\n",
    "c.fun()\n"
   ]
  },
  {
   "cell_type": "code",
   "execution_count": 77,
   "metadata": {
    "id": "s0-7EC6VO9fa"
   },
   "outputs": [
    {
     "name": "stdout",
     "output_type": "stream",
     "text": [
      "this is grand child\n",
      "this is child gun\n",
      "this is parent fun\n"
     ]
    }
   ],
   "source": [
    "#multilevel inheritnace\n",
    "class parent:\n",
    "  def fun(self):\n",
    "    print(\"this is parent fun\")\n",
    "\n",
    "class child(parent):\n",
    "  def gun(self):\n",
    "    print(\"this is child gun\")\n",
    "\n",
    "class gchild(child):\n",
    "  def run(self):\n",
    "    print(\"this is grand child\")\n",
    "\n",
    "c=gchild()\n",
    "c.run()\n",
    "c.gun()\n",
    "c.fun()\n",
    "\n"
   ]
  },
  {
   "cell_type": "code",
   "execution_count": 78,
   "metadata": {
    "id": "rVPnh1NjO9i9"
   },
   "outputs": [
    {
     "name": "stdout",
     "output_type": "stream",
     "text": [
      "this is grand child\n",
      "this is child gun\n",
      "this is parent fun\n"
     ]
    }
   ],
   "source": [
    "#multiple inheritance\n",
    "class parent:\n",
    "  def fun(self):\n",
    "    print(\"this is parent fun\")\n",
    "\n",
    "class child():\n",
    "  def gun(self):\n",
    "    print(\"this is child gun\")\n",
    "\n",
    "class gchild(parent,child):\n",
    "  def run(self):\n",
    "    print(\"this is grand child\")\n",
    "\n",
    "c=gchild()\n",
    "c.run()\n",
    "c.gun()\n",
    "c.fun()"
   ]
  },
  {
   "cell_type": "code",
   "execution_count": 79,
   "metadata": {
    "id": "6d8au2mIMiTq"
   },
   "outputs": [
    {
     "name": "stdout",
     "output_type": "stream",
     "text": [
      "this is grand child\n",
      "this is child gun\n",
      "this is parent fun\n"
     ]
    }
   ],
   "source": [
    "#hierarchical inheritance\n",
    "class parent:\n",
    "  def fun(self):\n",
    "    print(\"this is parent fun\")\n",
    "\n",
    "class child():\n",
    "  def gun(self):\n",
    "    print(\"this is child gun\")\n",
    "\n",
    "class gchild(parent,child):\n",
    "  def run(self):\n",
    "    print(\"this is grand child\")\n",
    "\n",
    "c=gchild()\n",
    "c.run()\n",
    "c.gun()\n",
    "c.fun()"
   ]
  },
  {
   "cell_type": "code",
   "execution_count": 80,
   "metadata": {
    "id": "NzNdcAUli_PJ"
   },
   "outputs": [
    {
     "name": "stdout",
     "output_type": "stream",
     "text": [
      "this is yogesh fun\n",
      "this is shubham gun\n"
     ]
    }
   ],
   "source": [
    "#abstraction\n",
    "from abc import ABC, abstractmethod\n",
    "\n",
    "class manager(ABC):\n",
    "  @abstractmethod\n",
    "  def fun(self):\n",
    "    \n",
    "    pass\n",
    "  @abstractmethod\n",
    "  def gun(self):\n",
    "    pass\n",
    "class yogesh(manager):\n",
    "  def fun(self):\n",
    "    print(\"this is yogesh fun\")\n",
    "class shubham(yogesh):\n",
    "  def gun(self):\n",
    "    print(\"this is shubham gun\")\n",
    "\n",
    "s=shubham()\n",
    "s.fun()\n",
    "s.gun()"
   ]
  },
  {
   "cell_type": "code",
   "execution_count": 81,
   "metadata": {
    "id": "xM9kiAGZi_UF"
   },
   "outputs": [
    {
     "name": "stdout",
     "output_type": "stream",
     "text": [
      "10\n",
      "20\n",
      "30\n"
     ]
    }
   ],
   "source": [
    "#encapsution\n",
    "class demo:\n",
    "  def __init__(self):\n",
    "    self.a=10    #public data member\n",
    "    self._b=20   #protected data member\n",
    "    self.__c=30  #private data member\n",
    "\n",
    "  def getdata(self):\n",
    "      print(self.__c)\n",
    "\n",
    "d=demo()\n",
    "print(d.a)\n",
    "print(d._b)\n",
    "#print(d.__c)\n",
    "d.getdata()"
   ]
  },
  {
   "cell_type": "code",
   "execution_count": 82,
   "metadata": {
    "id": "jdhTwd5Mi_ZB"
   },
   "outputs": [
    {
     "name": "stdout",
     "output_type": "stream",
     "text": [
      "parents smartphone\n"
     ]
    }
   ],
   "source": [
    "#polymorphism\n",
    "class parent:\n",
    "  def smartphone(self):\n",
    "    print(\"parents smartphone\")\n",
    "class child(parent):\n",
    "  def laptop(self):\n",
    "    print(\"child laptop\")\n",
    "\n",
    "c=child()\n",
    "c.smartphone()"
   ]
  },
  {
   "cell_type": "code",
   "execution_count": null,
   "metadata": {
    "id": "ivZhGb6PMiWi"
   },
   "outputs": [],
   "source": []
  },
  {
   "cell_type": "code",
   "execution_count": null,
   "metadata": {},
   "outputs": [],
   "source": []
  }
 ],
 "metadata": {
  "accelerator": "TPU",
  "colab": {
   "private_outputs": true,
   "provenance": []
  },
  "kernelspec": {
   "display_name": "Python 3 (ipykernel)",
   "language": "python",
   "name": "python3"
  },
  "language_info": {
   "codemirror_mode": {
    "name": "ipython",
    "version": 3
   },
   "file_extension": ".py",
   "mimetype": "text/x-python",
   "name": "python",
   "nbconvert_exporter": "python",
   "pygments_lexer": "ipython3",
   "version": "3.9.13"
  }
 },
 "nbformat": 4,
 "nbformat_minor": 4
}
