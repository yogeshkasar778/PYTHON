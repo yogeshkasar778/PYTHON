{
  "nbformat": 4,
  "nbformat_minor": 0,
  "metadata": {
    "colab": {
      "private_outputs": true,
      "provenance": []
    },
    "kernelspec": {
      "name": "python3",
      "display_name": "Python 3"
    },
    "language_info": {
      "name": "python"
    }
  },
  "cells": [
    {
      "cell_type": "markdown",
      "source": [
        "#**Pandas**"
      ],
      "metadata": {
        "id": "Nt2joXTR6tFQ"
      }
    },
    {
      "cell_type": "markdown",
      "source": [
        "Pandas is open-sourse python library.\n",
        "\n",
        "simple yet powerful and expressive tool.\n",
        "\n",
        "it is used to analyse data "
      ],
      "metadata": {
        "id": "W2V7KdyH6zlo"
      }
    },
    {
      "cell_type": "markdown",
      "source": [
        "What is Series object in pandas?\n",
        "\n",
        "it is defined as one-dimensional labelled array. we can easily convert the list, tuple and dict. into series using series method.\n",
        "A series cannot be contains multiple columns. It has one parameter."
      ],
      "metadata": {
        "id": "Wut-o3n57ZN4"
      }
    },
    {
      "cell_type": "code",
      "execution_count": null,
      "metadata": {
        "id": "QBuQmxL26oj-"
      },
      "outputs": [],
      "source": [
        "import pandas as pd\n",
        "data=[1,2,3,4]\n",
        "series1=pd.Series(data)\n",
        "series1"
      ]
    },
    {
      "cell_type": "code",
      "source": [
        "#check the type\n",
        "type(series1)"
      ],
      "metadata": {
        "id": "FFwp-0RO84Rf"
      },
      "execution_count": null,
      "outputs": []
    },
    {
      "cell_type": "code",
      "source": [
        "#changing the index name in series object\n",
        "series1=pd.Series(data, index=['a','b','c','d'])\n",
        "series1"
      ],
      "metadata": {
        "id": "T1sA3pQW84PA"
      },
      "execution_count": null,
      "outputs": []
    },
    {
      "cell_type": "markdown",
      "source": [
        "DataFrame:\n",
        "\n",
        "It is two-dimensional labelled data structures with columns of potentially different type."
      ],
      "metadata": {
        "id": "QKLIWY36B9AJ"
      }
    },
    {
      "cell_type": "markdown",
      "source": [
        "How to create a dataframe?"
      ],
      "metadata": {
        "id": "d-bB68WgCktZ"
      }
    },
    {
      "cell_type": "code",
      "source": [
        "#creating a data frane using list\n",
        "import pandas as pd\n",
        "data=[1,2,3,4,5]\n",
        "df=pd.DataFrame(data)\n",
        "df"
      ],
      "metadata": {
        "id": "6xO0aaY_84Kl"
      },
      "execution_count": null,
      "outputs": []
    },
    {
      "cell_type": "code",
      "source": [
        "#creating a data frame using dictionary\n",
        "dictionary={'Car':['BMW','TATA','Mahindra'],'count':[10,25,30]}\n",
        "df=pd.DataFrame(dictionary)\n",
        "df"
      ],
      "metadata": {
        "id": "iGlgwG6a84IH"
      },
      "execution_count": null,
      "outputs": []
    },
    {
      "cell_type": "code",
      "source": [
        "#creting a data frame using series\n",
        "series=pd.Series([6,12], index=['a','b'])\n",
        "df=pd.DataFrame(series)\n",
        "df"
      ],
      "metadata": {
        "id": "Sq4oqClO84FX"
      },
      "execution_count": null,
      "outputs": []
    },
    {
      "cell_type": "code",
      "source": [
        "#creating a data frame using numpy array\n",
        "import numpy as np\n",
        "numpyarray=np.array([[50000,60000],['John','James']])\n",
        "df=pd.DataFrame({'name':numpyarray[1],'salary':numpyarray[0]})\n",
        "df"
      ],
      "metadata": {
        "id": "nrxp-3_e84Az"
      },
      "execution_count": null,
      "outputs": []
    },
    {
      "cell_type": "markdown",
      "source": [
        "How to perform of merge operation?\n"
      ],
      "metadata": {
        "id": "SUXtoMcTJLR_"
      }
    },
    {
      "cell_type": "code",
      "source": [
        "import pandas as pd\n",
        "player=['player1','player2','player3']\n",
        "points=[10,20,30]\n",
        "tittle=['Game1','Game2','Game3']\n",
        "df1=pd.DataFrame({'Player':player,'Points':points,'Tittle':tittle})\n",
        "df1"
      ],
      "metadata": {
        "id": "G9tRHNW883-a"
      },
      "execution_count": null,
      "outputs": []
    },
    {
      "cell_type": "code",
      "source": [
        "player=['player1','player5','player6']\n",
        "power=['Punch','Kick','Elbow']\n",
        "tittle=['Game1','Game5','Game6']\n",
        "df2=pd.DataFrame({'Player':player,'Power':power,'Tittle':tittle})\n",
        "df2"
      ],
      "metadata": {
        "id": "icigffMV8373"
      },
      "execution_count": null,
      "outputs": []
    },
    {
      "cell_type": "code",
      "source": [
        "#inner merge\n",
        "df1.merge(df2,on='Player',how='inner')"
      ],
      "metadata": {
        "id": "2Jn_0PHn835g"
      },
      "execution_count": null,
      "outputs": []
    },
    {
      "cell_type": "code",
      "source": [
        "#left merge\n",
        "df1.merge(df2,on='Player',how='left')"
      ],
      "metadata": {
        "id": "gdB5lASc833P"
      },
      "execution_count": null,
      "outputs": []
    },
    {
      "cell_type": "code",
      "source": [
        "#right merge\n",
        "df1.merge(df2,on='Player',how='right')"
      ],
      "metadata": {
        "id": "csqs5h-p8304"
      },
      "execution_count": null,
      "outputs": []
    },
    {
      "cell_type": "code",
      "source": [
        "#outer merge\n",
        "df1.merge(df2,on='Player',how='outer')"
      ],
      "metadata": {
        "id": "xXwvpFlU83yX"
      },
      "execution_count": null,
      "outputs": []
    },
    {
      "cell_type": "markdown",
      "source": [
        "How to perform join operation?"
      ],
      "metadata": {
        "id": "hn48IFclPFyK"
      }
    },
    {
      "cell_type": "code",
      "source": [
        "import pandas as pd\n",
        "player= ['player1','player2','player3']\n",
        "points=[10,20,30]\n",
        "tittle=['Game1','Game2','Game3']\n",
        "df3= pd.DataFrame({'Player':player,'Points':points,'Tittle':tittle}, index=['L1','L2','L3'])\n",
        "df3"
      ],
      "metadata": {
        "id": "oFrGUBrX83wI"
      },
      "execution_count": null,
      "outputs": []
    },
    {
      "cell_type": "code",
      "source": [
        "\n",
        "player=['player1','player5','player6']\n",
        "power= ['Punch','Kick','Elbow']\n",
        "tittle=['Game1','Game5','Game6']\n",
        "df4= pd.DataFrame({'Players':player,'Power':power,'Tittles':tittle}, index=['L1','L2','L4'])\n",
        "df4"
      ],
      "metadata": {
        "id": "ZQJeArEL83tJ"
      },
      "execution_count": null,
      "outputs": []
    },
    {
      "cell_type": "code",
      "source": [
        "#inner join\n",
        "df3.join(df4, how='inner')"
      ],
      "metadata": {
        "id": "nVQW2bYcPFWy"
      },
      "execution_count": null,
      "outputs": []
    },
    {
      "cell_type": "code",
      "source": [
        "#left join\n",
        "df3.join(df4, how='left')"
      ],
      "metadata": {
        "id": "b8jiF9eoPFTb"
      },
      "execution_count": null,
      "outputs": []
    },
    {
      "cell_type": "code",
      "source": [
        "#right join\n",
        "df3.join(df4, how='right')"
      ],
      "metadata": {
        "id": "4zMJtOCGPFQz"
      },
      "execution_count": null,
      "outputs": []
    },
    {
      "cell_type": "code",
      "source": [
        "#outer join\n",
        "df3.join(df4, how='outer')"
      ],
      "metadata": {
        "id": "KrwnSYwBPFOK"
      },
      "execution_count": null,
      "outputs": []
    },
    {
      "cell_type": "markdown",
      "source": [
        "How to two data frame concatenates in pandas"
      ],
      "metadata": {
        "id": "-KET_44xZ7hz"
      }
    },
    {
      "cell_type": "code",
      "source": [
        "pd.concat([df3,df4])"
      ],
      "metadata": {
        "id": "gyHqJ_udPFLs"
      },
      "execution_count": null,
      "outputs": []
    },
    {
      "cell_type": "markdown",
      "source": [
        "Importing and analyzing of data set"
      ],
      "metadata": {
        "id": "FeZbn1tTptFM"
      }
    },
    {
      "cell_type": "markdown",
      "source": [],
      "metadata": {
        "id": "yxuBBGI2v50d"
      }
    },
    {
      "cell_type": "code",
      "source": [
        "#import pandas library\n",
        "import pandas as pd\n",
        "#read dataset and store into a dataframe\n",
        "cars=pd.read_csv(\"mtcars2.csv\")\n",
        "#print\n",
        "cars"
      ],
      "metadata": {
        "id": "hur-auIFPFJK"
      },
      "execution_count": null,
      "outputs": []
    },
    {
      "cell_type": "markdown",
      "source": [
        "Analyzing dataset"
      ],
      "metadata": {
        "id": "3spHXoSZv9Qz"
      }
    },
    {
      "cell_type": "code",
      "source": [
        "#check the type\n",
        "type(cars)"
      ],
      "metadata": {
        "id": "tOd2Ap5cPFGz"
      },
      "execution_count": null,
      "outputs": []
    },
    {
      "cell_type": "code",
      "source": [
        "#view only the first five records\n",
        "cars.head()"
      ],
      "metadata": {
        "id": "bK3uhfZZPFES"
      },
      "execution_count": null,
      "outputs": []
    },
    {
      "cell_type": "code",
      "source": [
        "#view only the first ten records\n",
        "cars.head(10)"
      ],
      "metadata": {
        "id": "Y_-_nnK4PFBs"
      },
      "execution_count": null,
      "outputs": []
    },
    {
      "cell_type": "code",
      "source": [
        "#view only the last five records\n",
        "cars.tail()"
      ],
      "metadata": {
        "id": "BsXa4XyoPE_C"
      },
      "execution_count": null,
      "outputs": []
    },
    {
      "cell_type": "code",
      "source": [
        "#view only the last ten records\n",
        "cars.tail(10)"
      ],
      "metadata": {
        "id": "invNEldXPE8K"
      },
      "execution_count": null,
      "outputs": []
    },
    {
      "cell_type": "code",
      "source": [
        "#View number of row and column in the dataframe\n",
        "cars.shape"
      ],
      "metadata": {
        "id": "m4Qn2JOVwdyd"
      },
      "execution_count": null,
      "outputs": []
    },
    {
      "cell_type": "code",
      "source": [
        "#print a concise summary of the column\n",
        "cars.info(null_counts=True)"
      ],
      "metadata": {
        "id": "ClkaZCK8wdvg"
      },
      "execution_count": null,
      "outputs": []
    },
    {
      "cell_type": "code",
      "source": [
        "#mean\n",
        "cars.mean()"
      ],
      "metadata": {
        "id": "6eAQvq2Iwdss"
      },
      "execution_count": null,
      "outputs": []
    },
    {
      "cell_type": "code",
      "source": [
        "#median\n",
        "cars.median()"
      ],
      "metadata": {
        "id": "i3ykY0Okwdp0"
      },
      "execution_count": null,
      "outputs": []
    },
    {
      "cell_type": "code",
      "source": [
        "#standard deviation\n",
        "cars.std()"
      ],
      "metadata": {
        "id": "p74w7eLcwdnF"
      },
      "execution_count": null,
      "outputs": []
    },
    {
      "cell_type": "code",
      "source": [
        "#maximum of each altribute\n",
        "cars.max()"
      ],
      "metadata": {
        "id": "AEXT_5H9wdj8"
      },
      "execution_count": null,
      "outputs": []
    },
    {
      "cell_type": "code",
      "source": [
        "#minimum of each atribute\n",
        "cars.min()"
      ],
      "metadata": {
        "id": "HzJvYnQrysON"
      },
      "execution_count": null,
      "outputs": []
    },
    {
      "cell_type": "code",
      "source": [
        "#number of non-null records in each column\n",
        "cars.count()"
      ],
      "metadata": {
        "id": "bN45wbLmysLy"
      },
      "execution_count": null,
      "outputs": []
    },
    {
      "cell_type": "code",
      "source": [
        "#descriptive statistics summary\n",
        "cars.describe()"
      ],
      "metadata": {
        "id": "q1R2d341ysJL"
      },
      "execution_count": null,
      "outputs": []
    },
    {
      "cell_type": "markdown",
      "source": [
        "Cleaning of dataset"
      ],
      "metadata": {
        "id": "NIkN-V3_0mtk"
      }
    },
    {
      "cell_type": "code",
      "source": [
        "#rename column\n",
        "cars=cars.rename(columns={'Unnamed: 1':'Model'})\n",
        "cars"
      ],
      "metadata": {
        "id": "YAlojNEBysEs"
      },
      "execution_count": null,
      "outputs": []
    },
    {
      "cell_type": "code",
      "source": [
        "#fill the null values with mean of the column\n",
        "cars.qsec=cars.qsec.fillna(cars.qsec.mean())\n",
        "cars"
      ],
      "metadata": {
        "id": "deSVH1c0yr_f"
      },
      "execution_count": null,
      "outputs": []
    },
    {
      "cell_type": "code",
      "source": [
        "#drop unwanted column\n",
        "cars=cars.drop(columns=['S.No'])\n",
        "cars"
      ],
      "metadata": {
        "id": "IhUKz_Tyyr9M"
      },
      "execution_count": null,
      "outputs": []
    },
    {
      "cell_type": "code",
      "source": [
        "#find correlation matrix\n",
        "df=cars[['mpg','cyl','disp','hp','drat','wt','qsec','vs','am','gear','carb']].corr()\n",
        "df"
      ],
      "metadata": {
        "id": "Dvl0ZmfUyr62"
      },
      "execution_count": null,
      "outputs": []
    },
    {
      "cell_type": "code",
      "source": [
        "#change mpg from string to float\n",
        "cars.mpg=cars.mpg.astype(float)\n",
        "#see the change\n",
        "cars.info(null_counts=True)"
      ],
      "metadata": {
        "id": "dGQq-Eziyr4f"
      },
      "execution_count": null,
      "outputs": []
    },
    {
      "cell_type": "code",
      "source": [
        "#again find the correlation inculding mpg\n",
        "df=cars[['mpg','cyl','disp','hp','drat','wt','qsec','vs','am','gear','carb']].corr()\n",
        "df"
      ],
      "metadata": {
        "id": "7DpPYWQ0yr2X"
      },
      "execution_count": null,
      "outputs": []
    },
    {
      "cell_type": "markdown",
      "source": [
        "Manipulating the dataset"
      ],
      "metadata": {
        "id": "AEBrh1LXLFYs"
      }
    },
    {
      "cell_type": "markdown",
      "source": [
        "How to perform indexing on the dataset?"
      ],
      "metadata": {
        "id": "7OlqH1XfLWJG"
      }
    },
    {
      "cell_type": "code",
      "source": [
        "#view of hp column only\n",
        "cars.iloc[:,4]"
      ],
      "metadata": {
        "id": "hDewKNpjyrz9"
      },
      "execution_count": null,
      "outputs": []
    },
    {
      "cell_type": "code",
      "source": [
        "#first five records of hp column\n",
        "cars.iloc[0:5,4]"
      ],
      "metadata": {
        "id": "4sIT4eh2yrv0"
      },
      "execution_count": null,
      "outputs": []
    },
    {
      "cell_type": "code",
      "source": [
        "#all rows and all column\n",
        "cars.iloc[:,:]"
      ],
      "metadata": {
        "id": "pqFValS1LL6-"
      },
      "execution_count": null,
      "outputs": []
    },
    {
      "cell_type": "code",
      "source": [
        "#for attributes from hp to carb see all the records from index 6\n",
        "cars.iloc[6:,4:]"
      ],
      "metadata": {
        "id": "OMcRq3Q0LL2b"
      },
      "execution_count": null,
      "outputs": []
    },
    {
      "cell_type": "code",
      "source": [
        "#now we want to look at all the rows and only the first column\n",
        "cars.iloc[:,1]"
      ],
      "metadata": {
        "id": "LrP7ry_TLLz0"
      },
      "execution_count": null,
      "outputs": []
    },
    {
      "cell_type": "code",
      "source": [
        "#see all the record of mpg column - indexing by label\n",
        "cars.loc[:,\"mpg\"]"
      ],
      "metadata": {
        "id": "tEEop759LLxK"
      },
      "execution_count": null,
      "outputs": []
    },
    {
      "cell_type": "code",
      "source": [
        "#display the records from index 0 to index 6 from mpg column\n",
        "cars.loc[:6,\"mpg\"]"
      ],
      "metadata": {
        "id": "zsNttrVMLLuq"
      },
      "execution_count": null,
      "outputs": []
    },
    {
      "cell_type": "code",
      "source": [
        "#see the first 7 records from mpg to qsec column\n",
        "cars.loc[:6,\"mpg\":\"qsec\"]"
      ],
      "metadata": {
        "id": "nd6ydpcgLLrm"
      },
      "execution_count": null,
      "outputs": []
    },
    {
      "cell_type": "markdown",
      "source": [
        "How to set value of the column?"
      ],
      "metadata": {
        "id": "3IkuDP48N-Qt"
      }
    },
    {
      "cell_type": "code",
      "source": [
        "#see value 1 to column 'am'\n",
        "cars['am']=1\n",
        "cars"
      ],
      "metadata": {
        "id": "wUmPTu-ALLo-"
      },
      "execution_count": null,
      "outputs": []
    },
    {
      "cell_type": "code",
      "source": [
        "#double uo records in 'am' using lambda function-applying function\n",
        "f=lambda x: x*2\n",
        "cars['am']=cars['am'].apply(f)\n",
        "cars"
      ],
      "metadata": {
        "id": "smVLvUyjLLl0"
      },
      "execution_count": null,
      "outputs": []
    },
    {
      "cell_type": "code",
      "source": [
        "#sorting cyl column ascending order - sorting\n",
        "cars.sort_values(by='cyl')"
      ],
      "metadata": {
        "id": "MYmGACtYLLiq"
      },
      "execution_count": null,
      "outputs": []
    },
    {
      "cell_type": "code",
      "source": [
        "#sorting cyl column descending order - sorting\n",
        "cars.sort_values(by='cyl', ascending=False)"
      ],
      "metadata": {
        "id": "sRxYSnENLLce"
      },
      "execution_count": null,
      "outputs": []
    },
    {
      "cell_type": "code",
      "source": [
        "#filtering th erecords with more than 6 cylinder\n",
        "cars['cyl']>6"
      ],
      "metadata": {
        "id": "GznCLN_-LLXL"
      },
      "execution_count": null,
      "outputs": []
    },
    {
      "cell_type": "code",
      "source": [
        "#filter records with more than 6 cylinder\n",
        "filter1=cars['cyl']>6\n",
        "#apply filter to data frame\n",
        "filtered_new=cars[filter1]\n",
        "filtered_new"
      ],
      "metadata": {
        "id": "4raa2KDbPxTa"
      },
      "execution_count": null,
      "outputs": []
    },
    {
      "cell_type": "code",
      "source": [
        "#filter records with more than 6 cyl and hp more than 300\n",
        "filter2=(cars[\"cyl\"]>6)&(cars[\"hp\"]>300)\n",
        "filtered_review=cars[filter2]\n",
        "filtered_review"
      ],
      "metadata": {
        "id": "PyimZ5M2PxQz"
      },
      "execution_count": null,
      "outputs": []
    },
    {
      "cell_type": "markdown",
      "source": [
        "Visualizing the dataset-(Matplotlib)"
      ],
      "metadata": {
        "id": "QUIeEnwjV82F"
      }
    },
    {
      "cell_type": "code",
      "source": [
        "#Line plot\n",
        "#import mtplotlib\n",
        "import matplotlib.pyplot as plt\n",
        "%matplotlib inline\n",
        "#see hp varies with each car with line plot\n",
        "y1=cars['hp']\n",
        "x=range(32)\n",
        "plt.plot(x,y1)"
      ],
      "metadata": {
        "id": "WRJjDKBDPxNw"
      },
      "execution_count": null,
      "outputs": []
    },
    {
      "cell_type": "code",
      "source": [
        "#double line\n",
        "y1=cars['hp']\n",
        "y2=cars['disp']\n",
        "x=range(32)\n",
        "plt.plot(x,y1)\n",
        "plt.plot(x,y2)\n",
        "plt.legend()"
      ],
      "metadata": {
        "id": "E_nr8qkoPxLf"
      },
      "execution_count": null,
      "outputs": []
    },
    {
      "cell_type": "code",
      "source": [
        "#Area plot\n",
        "y1=cars['hp']\n",
        "y2=cars['disp']\n",
        "x=range(32)\n",
        "#area plot hp and disp\n",
        "plt.stackplot(x,y1,colors='purple', alpha=0.7)\n",
        "plt.stackplot(x,y2,colors='black', alpha=0.5)"
      ],
      "metadata": {
        "id": "QM8YuK1SPxIy"
      },
      "execution_count": null,
      "outputs": []
    },
    {
      "cell_type": "code",
      "source": [
        "#Area and Line plot\n",
        "y1=cars['hp']\n",
        "y2=cars['disp']\n",
        "x=range(32)\n",
        "#area and line plot to see the margin\n",
        "plt.plot(x,y1,linewidth=2.0, color='c')\n",
        "plt.stackplot(x,y1,colors='purple', alpha=0.7)\n",
        "plt.plot(x,y2,linewidth=1.0, color='r')\n",
        "plt.stackplot(x,y2,colors='black', alpha=0.5)"
      ],
      "metadata": {
        "id": "YWQ4CKZDPxGV"
      },
      "execution_count": null,
      "outputs": []
    },
    {
      "cell_type": "code",
      "source": [
        "#Bar plot- (Vertical)\n",
        "y=cars['hp']\n",
        "x=range(32)\n",
        "#model to list\n",
        "x1= cars ['Model'].tolist()\n",
        "#adding fig. to adjust figsize\n",
        "fig=plt.figure(figsize=(50,15))\n",
        "#see the hp changewith bar plot\n",
        "plt.bar(x1,y,color=\"purple\",alpha=0.9 )"
      ],
      "metadata": {
        "id": "13YHlVpUPxDW"
      },
      "execution_count": null,
      "outputs": []
    },
    {
      "cell_type": "code",
      "source": [
        "#horizantal bar plot\n",
        "fig=plt.figure(figsize=(17,10))\n",
        "plt.barh(x1,y, color=\"purple\",alpha=0.8)"
      ],
      "metadata": {
        "id": "S2-r4IvoZtTx"
      },
      "execution_count": null,
      "outputs": []
    },
    {
      "cell_type": "code",
      "source": [],
      "metadata": {
        "id": "egH_VqccZtRD"
      },
      "execution_count": null,
      "outputs": []
    },
    {
      "cell_type": "code",
      "source": [],
      "metadata": {
        "id": "jA5FLVPqZtO_"
      },
      "execution_count": null,
      "outputs": []
    },
    {
      "cell_type": "code",
      "source": [],
      "metadata": {
        "id": "-325Wr-OZtMo"
      },
      "execution_count": null,
      "outputs": []
    },
    {
      "cell_type": "code",
      "source": [],
      "metadata": {
        "id": "rV2kfEb2ZtIu"
      },
      "execution_count": null,
      "outputs": []
    }
  ]
}